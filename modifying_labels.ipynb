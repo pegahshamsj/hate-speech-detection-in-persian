{
 "cells": [
  {
   "cell_type": "code",
   "execution_count": 1,
   "id": "b5b78ac4",
   "metadata": {},
   "outputs": [],
   "source": [
    "import pandas as pd"
   ]
  },
  {
   "cell_type": "code",
   "execution_count": 37,
   "id": "bdf77c74",
   "metadata": {},
   "outputs": [],
   "source": [
    "df = pd.read_csv('data/Persian_HS.csv')"
   ]
  },
  {
   "cell_type": "code",
   "execution_count": 48,
   "id": "a3e57f98",
   "metadata": {},
   "outputs": [],
   "source": [
    "a = list(df['label'].unique())"
   ]
  },
  {
   "cell_type": "code",
   "execution_count": 49,
   "id": "03b61b37",
   "metadata": {},
   "outputs": [
    {
     "data": {
      "text/plain": [
       "['\"تنفر\"', '\"غیرتنفر\"']"
      ]
     },
     "execution_count": 49,
     "metadata": {},
     "output_type": "execute_result"
    }
   ],
   "source": [
    "a"
   ]
  },
  {
   "cell_type": "code",
   "execution_count": 47,
   "id": "fa341a35",
   "metadata": {},
   "outputs": [
    {
     "name": "stderr",
     "output_type": "stream",
     "text": [
      "/tmp/ipykernel_2671903/2980575299.py:3: SettingWithCopyWarning: \n",
      "A value is trying to be set on a copy of a slice from a DataFrame\n",
      "\n",
      "See the caveats in the documentation: https://pandas.pydata.org/pandas-docs/stable/user_guide/indexing.html#returning-a-view-versus-a-copy\n",
      "  df['label'][i] = '\"تنفر\"'\n"
     ]
    }
   ],
   "source": [
    "for i in range(len(df['label'])):\n",
    "    if df['label'][i] == '\"دتنفر\"':\n",
    "        df['label'][i] = '\"تنفر\"'"
   ]
  },
  {
   "cell_type": "code",
   "execution_count": 51,
   "id": "83b3cf2a",
   "metadata": {},
   "outputs": [],
   "source": [
    "d=df.to_csv('data/persian_HS.csv')"
   ]
  },
  {
   "cell_type": "code",
   "execution_count": 53,
   "id": "c028f8a8",
   "metadata": {},
   "outputs": [],
   "source": [
    "d= pd.read_csv('data/persian_HS.csv')"
   ]
  },
  {
   "cell_type": "code",
   "execution_count": 54,
   "id": "7f109343",
   "metadata": {},
   "outputs": [
    {
     "data": {
      "text/html": [
       "<div>\n",
       "<style scoped>\n",
       "    .dataframe tbody tr th:only-of-type {\n",
       "        vertical-align: middle;\n",
       "    }\n",
       "\n",
       "    .dataframe tbody tr th {\n",
       "        vertical-align: top;\n",
       "    }\n",
       "\n",
       "    .dataframe thead th {\n",
       "        text-align: right;\n",
       "    }\n",
       "</style>\n",
       "<table border=\"1\" class=\"dataframe\">\n",
       "  <thead>\n",
       "    <tr style=\"text-align: right;\">\n",
       "      <th></th>\n",
       "      <th>Unnamed: 0.1</th>\n",
       "      <th>Unnamed: 0</th>\n",
       "      <th>sentence</th>\n",
       "      <th>label</th>\n",
       "    </tr>\n",
       "  </thead>\n",
       "  <tbody>\n",
       "    <tr>\n",
       "      <th>0</th>\n",
       "      <td>0</td>\n",
       "      <td>0</td>\n",
       "      <td>تتلو توهمی عمرا سحر بهش محل بزاره</td>\n",
       "      <td>\"تنفر\"</td>\n",
       "    </tr>\n",
       "    <tr>\n",
       "      <th>1</th>\n",
       "      <td>1</td>\n",
       "      <td>1</td>\n",
       "      <td>همه رو به یه چشم نگاه کن خودت رو تنهاتر کن و ف...</td>\n",
       "      <td>\"غیرتنفر\"</td>\n",
       "    </tr>\n",
       "    <tr>\n",
       "      <th>2</th>\n",
       "      <td>2</td>\n",
       "      <td>2</td>\n",
       "      <td>جدن به ما مربوط نیست زندگی دیگران این که مثل ع...</td>\n",
       "      <td>\"غیرتنفر\"</td>\n",
       "    </tr>\n",
       "    <tr>\n",
       "      <th>3</th>\n",
       "      <td>3</td>\n",
       "      <td>3</td>\n",
       "      <td>ینی واسه حاشیه ساختن حاضرن گوه بزنن به زندگیشو...</td>\n",
       "      <td>\"تنفر\"</td>\n",
       "    </tr>\n",
       "    <tr>\n",
       "      <th>4</th>\n",
       "      <td>4</td>\n",
       "      <td>4</td>\n",
       "      <td>البته شوهرمو پیدا نکردما ولی حس میکنم یکی بردتش</td>\n",
       "      <td>\"غیرتنفر\"</td>\n",
       "    </tr>\n",
       "    <tr>\n",
       "      <th>...</th>\n",
       "      <td>...</td>\n",
       "      <td>...</td>\n",
       "      <td>...</td>\n",
       "      <td>...</td>\n",
       "    </tr>\n",
       "    <tr>\n",
       "      <th>3451</th>\n",
       "      <td>3451</td>\n",
       "      <td>3451</td>\n",
       "      <td>واقعا گشایشایی حاصل شده اما کم</td>\n",
       "      <td>\"غیرتنفر\"</td>\n",
       "    </tr>\n",
       "    <tr>\n",
       "      <th>3452</th>\n",
       "      <td>3452</td>\n",
       "      <td>3452</td>\n",
       "      <td>پدر مادر سینا هم عربستان و اسرائیله اینم بگو</td>\n",
       "      <td>\"تنفر\"</td>\n",
       "    </tr>\n",
       "    <tr>\n",
       "      <th>3453</th>\n",
       "      <td>3453</td>\n",
       "      <td>3453</td>\n",
       "      <td>چرا در مورد این همه ادم توی امریکا بخاطر داشتن...</td>\n",
       "      <td>\"تنفر\"</td>\n",
       "    </tr>\n",
       "    <tr>\n",
       "      <th>3454</th>\n",
       "      <td>3454</td>\n",
       "      <td>3454</td>\n",
       "      <td>این ملکت دسته امسال تو افتاده که توش هر قاطی ب...</td>\n",
       "      <td>\"تنفر\"</td>\n",
       "    </tr>\n",
       "    <tr>\n",
       "      <th>3455</th>\n",
       "      <td>3455</td>\n",
       "      <td>3455</td>\n",
       "      <td>دردو بلای اوناییکه کامنتمو لایک میکنن بخوره تو...</td>\n",
       "      <td>\"تنفر\"</td>\n",
       "    </tr>\n",
       "  </tbody>\n",
       "</table>\n",
       "<p>3456 rows × 4 columns</p>\n",
       "</div>"
      ],
      "text/plain": [
       "      Unnamed: 0.1  Unnamed: 0  \\\n",
       "0                0           0   \n",
       "1                1           1   \n",
       "2                2           2   \n",
       "3                3           3   \n",
       "4                4           4   \n",
       "...            ...         ...   \n",
       "3451          3451        3451   \n",
       "3452          3452        3452   \n",
       "3453          3453        3453   \n",
       "3454          3454        3454   \n",
       "3455          3455        3455   \n",
       "\n",
       "                                               sentence      label  \n",
       "0                     تتلو توهمی عمرا سحر بهش محل بزاره     \"تنفر\"  \n",
       "1     همه رو به یه چشم نگاه کن خودت رو تنهاتر کن و ف...  \"غیرتنفر\"  \n",
       "2     جدن به ما مربوط نیست زندگی دیگران این که مثل ع...  \"غیرتنفر\"  \n",
       "3     ینی واسه حاشیه ساختن حاضرن گوه بزنن به زندگیشو...     \"تنفر\"  \n",
       "4       البته شوهرمو پیدا نکردما ولی حس میکنم یکی بردتش  \"غیرتنفر\"  \n",
       "...                                                 ...        ...  \n",
       "3451                     واقعا گشایشایی حاصل شده اما کم  \"غیرتنفر\"  \n",
       "3452       پدر مادر سینا هم عربستان و اسرائیله اینم بگو     \"تنفر\"  \n",
       "3453  چرا در مورد این همه ادم توی امریکا بخاطر داشتن...     \"تنفر\"  \n",
       "3454  این ملکت دسته امسال تو افتاده که توش هر قاطی ب...     \"تنفر\"  \n",
       "3455  دردو بلای اوناییکه کامنتمو لایک میکنن بخوره تو...     \"تنفر\"  \n",
       "\n",
       "[3456 rows x 4 columns]"
      ]
     },
     "execution_count": 54,
     "metadata": {},
     "output_type": "execute_result"
    }
   ],
   "source": [
    "d"
   ]
  },
  {
   "cell_type": "code",
   "execution_count": null,
   "id": "869cdf59",
   "metadata": {},
   "outputs": [],
   "source": []
  }
 ],
 "metadata": {
  "kernelspec": {
   "display_name": "Python 3 (ipykernel)",
   "language": "python",
   "name": "python3"
  },
  "language_info": {
   "codemirror_mode": {
    "name": "ipython",
    "version": 3
   },
   "file_extension": ".py",
   "mimetype": "text/x-python",
   "name": "python",
   "nbconvert_exporter": "python",
   "pygments_lexer": "ipython3",
   "version": "3.8.10"
  }
 },
 "nbformat": 4,
 "nbformat_minor": 5
}
