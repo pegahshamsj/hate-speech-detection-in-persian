{
 "cells": [
  {
   "cell_type": "code",
   "execution_count": 4,
   "id": "00f4b49a",
   "metadata": {},
   "outputs": [],
   "source": [
    "import pandas as pd\n",
    "\n",
    "\n",
    "data = pd.read_csv('hate_comments_c.csv')"
   ]
  },
  {
   "cell_type": "code",
   "execution_count": null,
   "id": "39e45f07",
   "metadata": {},
   "outputs": [],
   "source": [
    "array = []\n",
    "c = 0"
   ]
  },
  {
   "cell_type": "code",
   "execution_count": null,
   "id": "5a2de76c",
   "metadata": {},
   "outputs": [],
   "source": [
    "for index, row in data.iterrows():\n",
    "    if row['label'] == '\"تنفر\"' and c <= 1234:\n",
    "        c += 1\n",
    "        array.append([row['sentence'], row['label']])"
   ]
  },
  {
   "cell_type": "code",
   "execution_count": null,
   "id": "26ace768",
   "metadata": {},
   "outputs": [],
   "source": [
    "df_1 = pd.DataFrame.from_records(array)"
   ]
  },
  {
   "cell_type": "code",
   "execution_count": null,
   "id": "ec056ef9",
   "metadata": {},
   "outputs": [],
   "source": [
    "array = []\n",
    "c = 0"
   ]
  },
  {
   "cell_type": "code",
   "execution_count": null,
   "id": "9e2c46e8",
   "metadata": {},
   "outputs": [],
   "source": [
    "for index, row in data.iterrows():\n",
    "    if row['label'] == '\"غیرتنفر\"' and c <= 1231:\n",
    "        c += 1\n",
    "        array.append([row['sentence'], row['label']])"
   ]
  },
  {
   "cell_type": "code",
   "execution_count": null,
   "id": "494df9c3",
   "metadata": {},
   "outputs": [],
   "source": [
    "df_2 = pd.DataFrame.from_records(array)"
   ]
  },
  {
   "cell_type": "code",
   "execution_count": null,
   "id": "2c79f6d8",
   "metadata": {},
   "outputs": [],
   "source": [
    "frames = [df_1, df_2]"
   ]
  },
  {
   "cell_type": "code",
   "execution_count": null,
   "id": "abcb4ec2",
   "metadata": {},
   "outputs": [],
   "source": [
    "result = pd.concat(frames)"
   ]
  },
  {
   "cell_type": "code",
   "execution_count": null,
   "id": "20788af9",
   "metadata": {},
   "outputs": [],
   "source": [
    "result = result.sample(frac=1).reset_index(drop=True)"
   ]
  },
  {
   "cell_type": "code",
   "execution_count": null,
   "id": "a2d6aafa",
   "metadata": {},
   "outputs": [],
   "source": [
    "result.to_csv('equalized_dataset.csv')"
   ]
  },
  {
   "cell_type": "code",
   "execution_count": null,
   "id": "e7c51a08",
   "metadata": {},
   "outputs": [],
   "source": [
    "df = pd.read_csv('equalized_dataset.csv')"
   ]
  },
  {
   "cell_type": "code",
   "execution_count": null,
   "id": "983e3677",
   "metadata": {},
   "outputs": [],
   "source": [
    "df = pd.read_csv('equalized_dataset.csv')\n",
    "df = df.iloc[: , 1:]\n",
    "ds = df.sample(frac=1)\n",
    "ds = ds.reset_index(drop=True)"
   ]
  },
  {
   "cell_type": "code",
   "execution_count": null,
   "id": "222d61da",
   "metadata": {},
   "outputs": [],
   "source": [
    "test = ds.iloc[:493, 0:].reset_index(drop=True)\n",
    "train = ds.iloc[493:, 0:].reset_index(drop=True)"
   ]
  },
  {
   "cell_type": "code",
   "execution_count": null,
   "id": "fb4559f2",
   "metadata": {},
   "outputs": [],
   "source": [
    "test.to_csv('equalized_test.csv')\n",
    "train.to_csv('equalized_train.csv')"
   ]
  },
  {
   "cell_type": "code",
   "execution_count": 36,
   "id": "23a86cce",
   "metadata": {},
   "outputs": [],
   "source": [
    "test1 = pd.read_csv('equalized_test.csv')\n",
    "train1 = pd.read_csv('equalized_train.csv')"
   ]
  }
 ],
 "metadata": {
  "kernelspec": {
   "display_name": "Python 3 (ipykernel)",
   "language": "python",
   "name": "python3"
  },
  "language_info": {
   "codemirror_mode": {
    "name": "ipython",
    "version": 3
   },
   "file_extension": ".py",
   "mimetype": "text/x-python",
   "name": "python",
   "nbconvert_exporter": "python",
   "pygments_lexer": "ipython3",
   "version": "3.8.10"
  }
 },
 "nbformat": 4,
 "nbformat_minor": 5
}
